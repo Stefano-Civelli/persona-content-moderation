{
 "cells": [
  {
   "cell_type": "code",
   "execution_count": 4,
   "id": "ee5d3543",
   "metadata": {},
   "outputs": [
    {
     "name": "stdout",
     "output_type": "stream",
     "text": [
      "The watermark extension is already loaded. To reload it, use:\n",
      "  %reload_ext watermark\n",
      "Python implementation: CPython\n",
      "Python version       : 3.11.10\n",
      "IPython version      : 8.29.0\n",
      "\n",
      "numpy  : 1.26.4\n",
      "scipy  : 1.14.1\n",
      "sklearn: 1.5.2\n",
      "pandas : 2.2.3\n",
      "\n",
      "Compiler    : GCC 11.2.0\n",
      "OS          : Linux\n",
      "Release     : 6.8.0-60-generic\n",
      "Machine     : x86_64\n",
      "Processor   : x86_64\n",
      "CPU cores   : 28\n",
      "Architecture: 64bit\n",
      "\n",
      "The autoreload extension is already loaded. To reload it, use:\n",
      "  %reload_ext autoreload\n"
     ]
    }
   ],
   "source": [
    "%load_ext watermark\n",
    "%watermark -v -n -m -p numpy,scipy,sklearn,pandas\n",
    "\n",
    "import warnings\n",
    "\n",
    "\n",
    "warnings.filterwarnings('ignore')\n",
    "\n",
    "# reload all modules every time before executing the Python code\n",
    "%load_ext autoreload \n",
    "%autoreload 2\n",
    "%matplotlib inline\n",
    "\n",
    "import matplotlib.pyplot as plt\n",
    "import pandas as pd\n",
    "from tqdm.auto import tqdm\n",
    "import pickle\n",
    "import json\n",
    "with open('../../prompts.json', 'r') as f:\n",
    "    prompts = json.load(f)"
   ]
  },
  {
   "cell_type": "code",
   "execution_count": 5,
   "id": "2f9bd377",
   "metadata": {},
   "outputs": [],
   "source": [
    "model_name = 'test'"
   ]
  },
  {
   "cell_type": "markdown",
   "id": "317c44cb",
   "metadata": {},
   "source": [
    "## 4 Corners\n",
    "---"
   ]
  },
  {
   "cell_type": "code",
   "execution_count": 6,
   "id": "26e0099c",
   "metadata": {},
   "outputs": [
    {
     "ename": "FileNotFoundError",
     "evalue": "[Errno 2] No such file or directory: '../../results/extreme_pos_personas/test/extreme_pos_corners.pkl'",
     "output_type": "error",
     "traceback": [
      "\u001b[0;31m---------------------------------------------------------------------------\u001b[0m",
      "\u001b[0;31mFileNotFoundError\u001b[0m                         Traceback (most recent call last)",
      "Cell \u001b[0;32mIn[6], line 4\u001b[0m\n\u001b[1;32m      1\u001b[0m \u001b[38;5;66;03m# Load the extreme personas from a pickle file\u001b[39;00m\n\u001b[1;32m      2\u001b[0m extreme_pos_path \u001b[38;5;241m=\u001b[39m \u001b[38;5;124mf\u001b[39m\u001b[38;5;124m'\u001b[39m\u001b[38;5;124m../../results/extreme_pos_personas/\u001b[39m\u001b[38;5;132;01m{\u001b[39;00mmodel_name\u001b[38;5;132;01m}\u001b[39;00m\u001b[38;5;124m/extreme_pos_corners.pkl\u001b[39m\u001b[38;5;124m'\u001b[39m\n\u001b[0;32m----> 4\u001b[0m \u001b[38;5;28;01mwith\u001b[39;00m \u001b[38;5;28;43mopen\u001b[39;49m\u001b[43m(\u001b[49m\u001b[43mextreme_pos_path\u001b[49m\u001b[43m,\u001b[49m\u001b[43m \u001b[49m\u001b[38;5;124;43m'\u001b[39;49m\u001b[38;5;124;43mrb\u001b[39;49m\u001b[38;5;124;43m'\u001b[39;49m\u001b[43m)\u001b[49m \u001b[38;5;28;01mas\u001b[39;00m f:\n\u001b[1;32m      5\u001b[0m     extreme_pos \u001b[38;5;241m=\u001b[39m pickle\u001b[38;5;241m.\u001b[39mload(f)\n\u001b[1;32m      7\u001b[0m extreme_pos\n",
      "File \u001b[0;32m~/miniconda3/envs/torch/lib/python3.11/site-packages/IPython/core/interactiveshell.py:324\u001b[0m, in \u001b[0;36m_modified_open\u001b[0;34m(file, *args, **kwargs)\u001b[0m\n\u001b[1;32m    317\u001b[0m \u001b[38;5;28;01mif\u001b[39;00m file \u001b[38;5;129;01min\u001b[39;00m {\u001b[38;5;241m0\u001b[39m, \u001b[38;5;241m1\u001b[39m, \u001b[38;5;241m2\u001b[39m}:\n\u001b[1;32m    318\u001b[0m     \u001b[38;5;28;01mraise\u001b[39;00m \u001b[38;5;167;01mValueError\u001b[39;00m(\n\u001b[1;32m    319\u001b[0m         \u001b[38;5;124mf\u001b[39m\u001b[38;5;124m\"\u001b[39m\u001b[38;5;124mIPython won\u001b[39m\u001b[38;5;124m'\u001b[39m\u001b[38;5;124mt let you open fd=\u001b[39m\u001b[38;5;132;01m{\u001b[39;00mfile\u001b[38;5;132;01m}\u001b[39;00m\u001b[38;5;124m by default \u001b[39m\u001b[38;5;124m\"\u001b[39m\n\u001b[1;32m    320\u001b[0m         \u001b[38;5;124m\"\u001b[39m\u001b[38;5;124mas it is likely to crash IPython. If you know what you are doing, \u001b[39m\u001b[38;5;124m\"\u001b[39m\n\u001b[1;32m    321\u001b[0m         \u001b[38;5;124m\"\u001b[39m\u001b[38;5;124myou can use builtins\u001b[39m\u001b[38;5;124m'\u001b[39m\u001b[38;5;124m open.\u001b[39m\u001b[38;5;124m\"\u001b[39m\n\u001b[1;32m    322\u001b[0m     )\n\u001b[0;32m--> 324\u001b[0m \u001b[38;5;28;01mreturn\u001b[39;00m \u001b[43mio_open\u001b[49m\u001b[43m(\u001b[49m\u001b[43mfile\u001b[49m\u001b[43m,\u001b[49m\u001b[43m \u001b[49m\u001b[38;5;241;43m*\u001b[39;49m\u001b[43margs\u001b[49m\u001b[43m,\u001b[49m\u001b[43m \u001b[49m\u001b[38;5;241;43m*\u001b[39;49m\u001b[38;5;241;43m*\u001b[39;49m\u001b[43mkwargs\u001b[49m\u001b[43m)\u001b[49m\n",
      "\u001b[0;31mFileNotFoundError\u001b[0m: [Errno 2] No such file or directory: '../../results/extreme_pos_personas/test/extreme_pos_corners.pkl'"
     ]
    }
   ],
   "source": [
    "# Load the extreme personas from a pickle file\n",
    "extreme_pos_path = f'../../results/extreme_pos_personas/{model_name}/extreme_pos_corners.pkl'\n",
    "\n",
    "with open(extreme_pos_path, 'rb') as f:\n",
    "    extreme_pos = pickle.load(f)\n",
    "\n",
    "extreme_pos"
   ]
  },
  {
   "cell_type": "code",
   "execution_count": null,
   "id": "6db4a4ce",
   "metadata": {},
   "outputs": [],
   "source": [
    "def create_personas_df(extreme_pos):\n",
    "    persona_ids = []\n",
    "    persona_descriptions = []\n",
    "    persona_pos = []\n",
    "    \n",
    "    for quadrant in extreme_pos.keys():\n",
    "        for persona in extreme_pos[quadrant]:\n",
    "            persona_ids.append(persona[0])\n",
    "            persona_descriptions.append(persona[1])\n",
    "            persona_pos.append(quadrant)\n",
    "    \n",
    "    personas_df = pd.DataFrame({\n",
    "        'persona_id': persona_ids,\n",
    "        'description': persona_descriptions,\n",
    "        'pos': persona_pos\n",
    "    })\n",
    "    return personas_df\n",
    "\n",
    "personas_df = create_personas_df(extreme_pos)"
   ]
  },
  {
   "cell_type": "code",
   "execution_count": null,
   "id": "94824e3a",
   "metadata": {},
   "outputs": [],
   "source": [
    "# print 3 personas from each corner\n",
    "for pos_name in ['top_right', 'top_left', 'bottom_right', 'bottom_left']:\n",
    "    print(f'Corner: {pos_name}')\n",
    "    for _, row in personas_df[personas_df['pos'] == pos_name].head(3).iterrows():\n",
    "        print(row['description'])\n",
    "    print('\\n\\n')"
   ]
  },
  {
   "cell_type": "code",
   "execution_count": null,
   "id": "e87ef0a0",
   "metadata": {},
   "outputs": [],
   "source": [
    "personas_list = personas_df.values.tolist()"
   ]
  },
  {
   "cell_type": "code",
   "execution_count": null,
   "id": "ea45b138",
   "metadata": {},
   "outputs": [],
   "source": [
    "def generate_prompts(prompt_template, personas_list):\n",
    "    \n",
    "    prompts = []\n",
    "\n",
    "    for persona_id, description, pos in tqdm(personas_list, total=len(personas_list)):\n",
    "        \n",
    "        prompt = prompt_template.replace('[PERSONA]', description)\n",
    "        \n",
    "        record = {\n",
    "            'persona_id': persona_id,\n",
    "            'persona_pos': pos,\n",
    "            'persona': description,\n",
    "            'prompt': prompt\n",
    "        }\n",
    "\n",
    "        prompts.append(record)\n",
    "\n",
    "    return pd.DataFrame(prompts)"
   ]
  },
  {
   "cell_type": "markdown",
   "id": "4c63d646",
   "metadata": {},
   "source": [
    "### Facebook Hateful Memes\n",
    "---"
   ]
  },
  {
   "cell_type": "code",
   "execution_count": null,
   "id": "582ad0b5",
   "metadata": {},
   "outputs": [],
   "source": [
    "dataset = 'fcbk_hate'"
   ]
  },
  {
   "cell_type": "code",
   "execution_count": null,
   "id": "719877c4",
   "metadata": {},
   "outputs": [],
   "source": [
    "prompts_df = generate_prompts(prompts[\"facebook_hateful_memes\"][\"v6\"][\"template\"], personas_list)"
   ]
  },
  {
   "cell_type": "code",
   "execution_count": null,
   "id": "53df05df",
   "metadata": {},
   "outputs": [],
   "source": [
    "prompts_df.head(3)"
   ]
  },
  {
   "cell_type": "code",
   "execution_count": null,
   "id": "96e22885",
   "metadata": {},
   "outputs": [],
   "source": [
    "print(prompts_df.iloc[0]['prompt'])"
   ]
  },
  {
   "cell_type": "code",
   "execution_count": null,
   "id": "ec092b5b",
   "metadata": {},
   "outputs": [],
   "source": [
    "prompts_df.to_parquet(f'../../data/processed/classification_prompts/{dataset}_{model_name}_corners.pqt')"
   ]
  },
  {
   "cell_type": "markdown",
   "id": "31ab3e72",
   "metadata": {},
   "source": [
    "### MMHS150K\n",
    "---"
   ]
  },
  {
   "cell_type": "code",
   "execution_count": null,
   "id": "bddf77eb",
   "metadata": {},
   "outputs": [],
   "source": [
    "dataset = 'MMHS150K'"
   ]
  },
  {
   "cell_type": "code",
   "execution_count": null,
   "id": "19b7ee4d",
   "metadata": {},
   "outputs": [],
   "source": [
    "prompts_df = generate_prompts(prompts[\"mmhs150k\"][\"v2\"][\"template\"], personas_list)"
   ]
  },
  {
   "cell_type": "code",
   "execution_count": null,
   "id": "8f71d766",
   "metadata": {},
   "outputs": [],
   "source": [
    "prompts_df.head(3)"
   ]
  },
  {
   "cell_type": "code",
   "execution_count": null,
   "id": "94148fcf",
   "metadata": {},
   "outputs": [],
   "source": [
    "print(prompts_df.iloc[0]['prompt'])"
   ]
  },
  {
   "cell_type": "code",
   "execution_count": null,
   "id": "80d3875c",
   "metadata": {},
   "outputs": [],
   "source": [
    "prompts_df.to_parquet(f'../../data/processed/classification_prompts/{dataset}_{model_name}_corners.pqt')"
   ]
  },
  {
   "cell_type": "markdown",
   "id": "41c94839",
   "metadata": {},
   "source": [
    "### Yoder\n",
    "---"
   ]
  },
  {
   "cell_type": "code",
   "execution_count": null,
   "id": "e886450c",
   "metadata": {},
   "outputs": [],
   "source": [
    "dataset = 'YODER'"
   ]
  },
  {
   "cell_type": "code",
   "execution_count": null,
   "id": "324a7f04",
   "metadata": {},
   "outputs": [],
   "source": [
    "prompts_df = generate_prompts(prompts[\"yoder\"][\"v1\"][\"template\"], personas_list)"
   ]
  },
  {
   "cell_type": "code",
   "execution_count": null,
   "id": "e463e8a2",
   "metadata": {},
   "outputs": [],
   "source": [
    "prompts_df.head(3)"
   ]
  },
  {
   "cell_type": "code",
   "execution_count": null,
   "id": "24bc97b6",
   "metadata": {},
   "outputs": [],
   "source": [
    "print(prompts_df.iloc[0]['prompt'])"
   ]
  },
  {
   "cell_type": "code",
   "execution_count": null,
   "id": "b42591e1",
   "metadata": {},
   "outputs": [],
   "source": [
    "prompts_df.to_parquet(f'../../data/processed/classification_prompts/{dataset}_{model_name}_corners.pqt')"
   ]
  },
  {
   "cell_type": "markdown",
   "id": "5f1e5049",
   "metadata": {},
   "source": [
    "## Left - Right\n",
    "---"
   ]
  },
  {
   "cell_type": "code",
   "execution_count": null,
   "id": "5e7d52af",
   "metadata": {},
   "outputs": [],
   "source": [
    "path = f'../../results/extreme_pos_personas/{model_name}/extreme_pos_left_right.pkl'"
   ]
  },
  {
   "cell_type": "markdown",
   "id": "5f316bb0",
   "metadata": {},
   "source": [
    "### Facebook Hateful Memes\n",
    "---"
   ]
  },
  {
   "cell_type": "markdown",
   "id": "783cd5f0",
   "metadata": {},
   "source": [
    "### MMHS150K\n",
    "---"
   ]
  }
 ],
 "metadata": {
  "kernelspec": {
   "display_name": "torch",
   "language": "python",
   "name": "python3"
  },
  "language_info": {
   "codemirror_mode": {
    "name": "ipython",
    "version": 3
   },
   "file_extension": ".py",
   "mimetype": "text/x-python",
   "name": "python",
   "nbconvert_exporter": "python",
   "pygments_lexer": "ipython3",
   "version": "3.11.10"
  }
 },
 "nbformat": 4,
 "nbformat_minor": 5
}
