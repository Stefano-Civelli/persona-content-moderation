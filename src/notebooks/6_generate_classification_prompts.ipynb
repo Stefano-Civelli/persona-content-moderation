{
 "cells": [
  {
   "cell_type": "code",
   "execution_count": 16,
   "id": "ee5d3543",
   "metadata": {},
   "outputs": [
    {
     "name": "stdout",
     "output_type": "stream",
     "text": [
      "The watermark extension is already loaded. To reload it, use:\n",
      "  %reload_ext watermark\n",
      "Python implementation: CPython\n",
      "Python version       : 3.11.10\n",
      "IPython version      : 8.29.0\n",
      "\n",
      "numpy  : 1.26.4\n",
      "scipy  : 1.14.1\n",
      "sklearn: 1.5.2\n",
      "pandas : 2.2.3\n",
      "\n",
      "Compiler    : GCC 11.2.0\n",
      "OS          : Linux\n",
      "Release     : 6.8.0-60-generic\n",
      "Machine     : x86_64\n",
      "Processor   : x86_64\n",
      "CPU cores   : 28\n",
      "Architecture: 64bit\n",
      "\n",
      "The autoreload extension is already loaded. To reload it, use:\n",
      "  %reload_ext autoreload\n"
     ]
    }
   ],
   "source": [
    "%load_ext watermark\n",
    "%watermark -v -n -m -p numpy,scipy,sklearn,pandas\n",
    "\n",
    "import warnings\n",
    "\n",
    "\n",
    "warnings.filterwarnings('ignore')\n",
    "\n",
    "# reload all modules every time before executing the Python code\n",
    "%load_ext autoreload \n",
    "%autoreload 2\n",
    "%matplotlib inline\n",
    "\n",
    "import matplotlib.pyplot as plt\n",
    "import pandas as pd\n",
    "from tqdm.auto import tqdm\n",
    "import pickle\n",
    "import json\n",
    "import os\n",
    "with open('../../prompts.json', 'r') as f:\n",
    "    prompts = json.load(f)"
   ]
  },
  {
   "cell_type": "code",
   "execution_count": 2,
   "id": "2f9bd377",
   "metadata": {},
   "outputs": [],
   "source": [
    "model_name = \"Llama-3.1-8B-Instruct\""
   ]
  },
  {
   "cell_type": "markdown",
   "id": "317c44cb",
   "metadata": {},
   "source": [
    "## 4 Corners\n",
    "---"
   ]
  },
  {
   "cell_type": "code",
   "execution_count": 3,
   "id": "26e0099c",
   "metadata": {},
   "outputs": [
    {
     "data": {
      "text/plain": [
       "{'top_right': [(160648,\n",
       "   'a private prison owner who financially benefits from high incarceration rates',\n",
       "   (5.51, 5.64)),\n",
       "  (74928,\n",
       "   'a church choir member who shares the same conservative values and enjoys tea parties',\n",
       "   (4.38, 4.0)),\n",
       "  (380,\n",
       "   \"a loyal patron who appreciates the business owner's commitment to conservative causes\",\n",
       "   (4.25, 3.85)),\n",
       "  (117299, 'an ultraconservative politician in Georgia', (3.88, 3.64)),\n",
       "  (115942,\n",
       "   'a representative of an oil and gas company that benefits from lower fuel economy standards',\n",
       "   (4.5, 3.59)),\n",
       "  (61756,\n",
       "   'a commercial breeder focused on profit margins over the well-being of the animals',\n",
       "   (3.5, 4.41)),\n",
       "  (29219,\n",
       "   'a business developer trying to bring new investments to the region, regardless of environmental cost',\n",
       "   (6.76, 3.33)),\n",
       "  (114890,\n",
       "   'a computer engineer who focuses on optimizing algorithms for revenue generation without considering ethical implications',\n",
       "   (3.38, 3.74)),\n",
       "  (147342,\n",
       "   'a government official who justifies restrictive policies as necessary for national security',\n",
       "   (3.38, 4.67)),\n",
       "  (76551,\n",
       "   \"a local business owner who shares the radio host's nationalistic sentiments and works to promote domestic industries\",\n",
       "   (5.51, 3.13)),\n",
       "  (116367,\n",
       "   'an influential government official driven by the desire to maintain power and control',\n",
       "   (3.13, 3.23)),\n",
       "  (163911,\n",
       "   \"a corporate lawyer representing the interests of large companies against workers' rights\",\n",
       "   (3.13, 3.28)),\n",
       "  (13229,\n",
       "   'a reckless pharmaceutical company owner who prioritizes profit over public safety',\n",
       "   (3.13, 3.44)),\n",
       "  (144032,\n",
       "   'a representative from the private prison industry advocating against reforms that could impact their business',\n",
       "   (3.13, 4.77)),\n",
       "  (166787,\n",
       "   'a traditional tour operator focused more on maximizing profit than preserving ecosystems',\n",
       "   (4.25, 3.13))],\n",
       " 'top_left': [(124228,\n",
       "   'a long-standing member of the Gambian parliament who champions traditional policies and is resistant to change',\n",
       "   (-2.75, 2.41)),\n",
       "  (152205,\n",
       "   'a troll who enjoys sparking heated arguments and spreading misinformation',\n",
       "   (-2.38, 2.51)),\n",
       "  (163885,\n",
       "   'a Russian who supports the local government and dislikes opposition figure Alexei Navalny',\n",
       "   (-2.13, 3.33)),\n",
       "  (131718,\n",
       "   'a politician who prefers populist measures over data-driven policy decisions',\n",
       "   (-2.13, 2.56)),\n",
       "  (190044,\n",
       "   'a parent working in the Indian government who shares the same political beliefs',\n",
       "   (-2.0, 1.95)),\n",
       "  (37772,\n",
       "   'a long-serving council member resistant to change and protective of traditional neighbourhood interests',\n",
       "   (-2.25, 1.9)),\n",
       "  (140715,\n",
       "   'an elderly retiree who has experienced a rise in crime and wants to take action to protect their community',\n",
       "   (-4.63, 1.49)),\n",
       "  (92624, 'a conservative stay-at-home mom in rural America', (-1.75, 2.15)),\n",
       "  (118368,\n",
       "   \"a lower-income citizen who feels supported by the politician's populist policies that address their immediate concerns\",\n",
       "   (-7.13, 0.67)),\n",
       "  (42911,\n",
       "   'a local judge who sympathizes with their experience and understands their desire for harsh punishment',\n",
       "   (-2.38, 1.64)),\n",
       "  (141699,\n",
       "   'a traditionalist community leader advocating for keeping the existing utility set-up',\n",
       "   (-2.25, 1.64)),\n",
       "  (38374,\n",
       "   'a traditionalist author who writes in defense of maintaining long-standing religious practices without modern adaptations',\n",
       "   (-1.63, 1.85)),\n",
       "  (55213,\n",
       "   'a charismatic political campaign manager focused on enforcing national security measures',\n",
       "   (-1.63, 1.79)),\n",
       "  (59467,\n",
       "   \"a pro-government bureaucrat believing in the state's policies despite the ongoing conflict\",\n",
       "   (-2.38, 1.59)),\n",
       "  (112260,\n",
       "   'a conservative man from an eastern culture with traditional views on gender roles',\n",
       "   (-1.5, 3.13))],\n",
       " 'bottom_right': [(125387,\n",
       "   'a charismatic libertarian congressman who is advocating for less governmental control over financial markets',\n",
       "   (5.38, -6.51)),\n",
       "  (110803,\n",
       "   'a libertarian lobbyist who challenges the necessity and effectiveness of government services',\n",
       "   (5.38, -7.79)),\n",
       "  (56926,\n",
       "   'a financial consultant who despises bureaucracy and is in favor of private sector-led development',\n",
       "   (5.38, -5.28)),\n",
       "  (134479,\n",
       "   'a business student aiming to disrupt politics with a pro-commerce, laissez-faire platform',\n",
       "   (6.76, -5.23)),\n",
       "  (83191,\n",
       "   'a biotech CEO advocating for minimal governmental interference in order to promote innovation',\n",
       "   (5.13, -6.41)),\n",
       "  (97619,\n",
       "   'a libertarian economist researching for fewer regulations and taxation in markets',\n",
       "   (5.01, -6.0)),\n",
       "  (71692,\n",
       "   'a free-market economist sharing articles and engaging in discussions about the benefits of limited government intervention',\n",
       "   (6.01, -4.92)),\n",
       "  (167830,\n",
       "   'a traditional sports equipment manufacturer who sees the unconventional gear as a threat to their market',\n",
       "   (5.26, -4.87)),\n",
       "  (13472,\n",
       "   'an ardent supporter of less government intervention and dislikes spending hours reading news',\n",
       "   (5.26, -4.82)),\n",
       "  (146299,\n",
       "   'a опытный венчурный капиталист, заинтересованный в финансировании и поддержке инновационных стартапов',\n",
       "   (5.76, -4.51)),\n",
       "  (52598,\n",
       "   'a venture capitalist who is eager to invest in new startups that may emerge from the deregulation',\n",
       "   (6.51, -4.51)),\n",
       "  (41685,\n",
       "   \"a commentator who's concerned about the increase in government spending\",\n",
       "   (4.38, -4.36)),\n",
       "  (180448,\n",
       "   'an another powerful tech billionaire who is also interested in purchasing iconic properties, leading to fierce competition',\n",
       "   (4.38, -4.36)),\n",
       "  (183482,\n",
       "   'a PhD candidate in Finance, zealously advocating the importance of financial markets over governmental policies',\n",
       "   (4.38, -4.77)),\n",
       "  (69798,\n",
       "   'a die-hard capitalist who is dismissive of communism',\n",
       "   (4.38, -5.23))],\n",
       " 'bottom_left': [(116780,\n",
       "   'a talented but stubborn writer who firmly believes in their artistic integrity and resists any market-driven suggestions',\n",
       "   (-7.38, -7.28)),\n",
       "  (78080,\n",
       "   'a marginalized community activist who has been misrepresented in mainstream media',\n",
       "   (-6.51, -6.67)),\n",
       "  (157938,\n",
       "   'a grassroots organizer who dismisses polls in favor of anecdotal evidence from the field',\n",
       "   (-6.38, -6.36)),\n",
       "  (130188,\n",
       "   'a staunch union supporter and economic equality campaigner',\n",
       "   (-6.26, -6.51)),\n",
       "  (21418,\n",
       "   'a human rights activist who advocates for reparations and equality for formerly colonized nations',\n",
       "   (-6.13, -6.82)),\n",
       "  (180581,\n",
       "   'a former death row inmate who was wrongfully convicted, leading the retired judge to question the reliability of the justice system',\n",
       "   (-6.13, -6.05)),\n",
       "  (184934,\n",
       "   \"a hip hop artist deeply involved in the culture and protective of the genre's creative freedoms\",\n",
       "   (-6.13, -6.05)),\n",
       "  (20274,\n",
       "   'an Adams College public administration professor who has a strong interest in environmental and indigenous justice issues, and is an active participant in many protests',\n",
       "   (-5.88, -5.9)),\n",
       "  (89180,\n",
       "   'an individual whose ancestors lived through the colonial period and carries the generational trauma',\n",
       "   (-5.88, -6.05)),\n",
       "  (75048,\n",
       "   'a tree-hugging environmentalist with a deep love for nature',\n",
       "   (-5.88, -6.31)),\n",
       "  (124500,\n",
       "   'a fellow enthusiast of alternative lifestyles and subcultures, always willing to try new body modifications',\n",
       "   (-5.88, -6.41)),\n",
       "  (54832,\n",
       "   'a social worker who supports communities affected by environmental damage caused by corporations',\n",
       "   (-5.76, -5.79)),\n",
       "  (64677,\n",
       "   'an i am an indie filmmaker inspired by experimental cinema and aspiring to create impactful art through film collage techniques',\n",
       "   (-5.76, -5.79)),\n",
       "  (109590,\n",
       "   'a young activist from a marginalized community fighting for the revitalization of their ancestral language',\n",
       "   (-5.76, -5.79)),\n",
       "  (187149,\n",
       "   'an as a former convict wrongly sentenced due to the minimum mandatory sentence law',\n",
       "   (-5.76, -5.95))]}"
      ]
     },
     "execution_count": 3,
     "metadata": {},
     "output_type": "execute_result"
    }
   ],
   "source": [
    "# Load the extreme personas from a pickle file\n",
    "extreme_pos_path = f'../../data/results/extreme_pos_personas/{model_name}/extreme_pos_corners.pkl'\n",
    "\n",
    "with open(extreme_pos_path, 'rb') as f:\n",
    "    extreme_pos = pickle.load(f)\n",
    "\n",
    "extreme_pos"
   ]
  },
  {
   "cell_type": "code",
   "execution_count": 4,
   "id": "6db4a4ce",
   "metadata": {},
   "outputs": [],
   "source": [
    "def create_personas_df(extreme_pos):\n",
    "    persona_ids = []\n",
    "    persona_descriptions = []\n",
    "    persona_pos = []\n",
    "    \n",
    "    for quadrant in extreme_pos.keys():\n",
    "        for persona in extreme_pos[quadrant]:\n",
    "            persona_ids.append(persona[0])\n",
    "            persona_descriptions.append(persona[1])\n",
    "            persona_pos.append(quadrant)\n",
    "    \n",
    "    personas_df = pd.DataFrame({\n",
    "        'persona_id': persona_ids,\n",
    "        'description': persona_descriptions,\n",
    "        'pos': persona_pos\n",
    "    })\n",
    "    return personas_df\n",
    "\n",
    "personas_df = create_personas_df(extreme_pos)"
   ]
  },
  {
   "cell_type": "code",
   "execution_count": 5,
   "id": "94824e3a",
   "metadata": {},
   "outputs": [
    {
     "name": "stdout",
     "output_type": "stream",
     "text": [
      "Corner: top_right\n",
      "a private prison owner who financially benefits from high incarceration rates\n",
      "a church choir member who shares the same conservative values and enjoys tea parties\n",
      "a loyal patron who appreciates the business owner's commitment to conservative causes\n",
      "\n",
      "\n",
      "\n",
      "Corner: top_left\n",
      "a long-standing member of the Gambian parliament who champions traditional policies and is resistant to change\n",
      "a troll who enjoys sparking heated arguments and spreading misinformation\n",
      "a Russian who supports the local government and dislikes opposition figure Alexei Navalny\n",
      "\n",
      "\n",
      "\n",
      "Corner: bottom_right\n",
      "a charismatic libertarian congressman who is advocating for less governmental control over financial markets\n",
      "a libertarian lobbyist who challenges the necessity and effectiveness of government services\n",
      "a financial consultant who despises bureaucracy and is in favor of private sector-led development\n",
      "\n",
      "\n",
      "\n",
      "Corner: bottom_left\n",
      "a talented but stubborn writer who firmly believes in their artistic integrity and resists any market-driven suggestions\n",
      "a marginalized community activist who has been misrepresented in mainstream media\n",
      "a grassroots organizer who dismisses polls in favor of anecdotal evidence from the field\n",
      "\n",
      "\n",
      "\n"
     ]
    }
   ],
   "source": [
    "# print 3 personas from each corner\n",
    "for pos_name in ['top_right', 'top_left', 'bottom_right', 'bottom_left']:\n",
    "    print(f'Corner: {pos_name}')\n",
    "    for _, row in personas_df[personas_df['pos'] == pos_name].head(3).iterrows():\n",
    "        print(row['description'])\n",
    "    print('\\n\\n')"
   ]
  },
  {
   "cell_type": "code",
   "execution_count": 6,
   "id": "e87ef0a0",
   "metadata": {},
   "outputs": [],
   "source": [
    "personas_list = personas_df.values.tolist()"
   ]
  },
  {
   "cell_type": "code",
   "execution_count": 7,
   "id": "ea45b138",
   "metadata": {},
   "outputs": [],
   "source": [
    "def generate_prompts(prompt_template, personas_list):\n",
    "    \n",
    "    prompts = []\n",
    "\n",
    "    for persona_id, description, pos in tqdm(personas_list, total=len(personas_list)):\n",
    "        \n",
    "        prompt = prompt_template.replace('[PERSONA]', description)\n",
    "        \n",
    "        record = {\n",
    "            'persona_id': persona_id,\n",
    "            'persona_pos': pos,\n",
    "            'persona': description,\n",
    "            'prompt': prompt\n",
    "        }\n",
    "\n",
    "        prompts.append(record)\n",
    "\n",
    "    return pd.DataFrame(prompts)"
   ]
  },
  {
   "cell_type": "markdown",
   "id": "4c63d646",
   "metadata": {},
   "source": [
    "### Facebook Hateful Memes\n",
    "---"
   ]
  },
  {
   "cell_type": "code",
   "execution_count": null,
   "id": "582ad0b5",
   "metadata": {},
   "outputs": [],
   "source": [
    "dataset = 'fcbk_hate'"
   ]
  },
  {
   "cell_type": "code",
   "execution_count": null,
   "id": "719877c4",
   "metadata": {},
   "outputs": [],
   "source": [
    "prompts_df = generate_prompts(prompts[\"facebook_hateful_memes\"][\"v6\"][\"template\"], personas_list)"
   ]
  },
  {
   "cell_type": "code",
   "execution_count": null,
   "id": "53df05df",
   "metadata": {},
   "outputs": [],
   "source": [
    "prompts_df.head(3)"
   ]
  },
  {
   "cell_type": "code",
   "execution_count": null,
   "id": "96e22885",
   "metadata": {},
   "outputs": [],
   "source": [
    "print(prompts_df.iloc[0]['prompt'])"
   ]
  },
  {
   "cell_type": "code",
   "execution_count": null,
   "id": "ec092b5b",
   "metadata": {},
   "outputs": [],
   "source": [
    "prompts_df.to_parquet(f'../../data/processed/classification_prompts/{dataset}_{model_name}_corners.pqt')"
   ]
  },
  {
   "cell_type": "markdown",
   "id": "31ab3e72",
   "metadata": {},
   "source": [
    "### MMHS150K\n",
    "---"
   ]
  },
  {
   "cell_type": "code",
   "execution_count": null,
   "id": "bddf77eb",
   "metadata": {},
   "outputs": [],
   "source": [
    "dataset = 'MMHS150K'"
   ]
  },
  {
   "cell_type": "code",
   "execution_count": null,
   "id": "19b7ee4d",
   "metadata": {},
   "outputs": [],
   "source": [
    "prompts_df = generate_prompts(prompts[\"mmhs150k\"][\"v2\"][\"template\"], personas_list)"
   ]
  },
  {
   "cell_type": "code",
   "execution_count": null,
   "id": "8f71d766",
   "metadata": {},
   "outputs": [],
   "source": [
    "prompts_df.head(3)"
   ]
  },
  {
   "cell_type": "code",
   "execution_count": null,
   "id": "94148fcf",
   "metadata": {},
   "outputs": [],
   "source": [
    "print(prompts_df.iloc[0]['prompt'])"
   ]
  },
  {
   "cell_type": "code",
   "execution_count": null,
   "id": "80d3875c",
   "metadata": {},
   "outputs": [],
   "source": [
    "prompts_df.to_parquet(f'../../data/processed/classification_prompts/{dataset}_{model_name}_corners.pqt')"
   ]
  },
  {
   "cell_type": "markdown",
   "id": "41c94839",
   "metadata": {},
   "source": [
    "### Yoder\n",
    "---"
   ]
  },
  {
   "cell_type": "code",
   "execution_count": 8,
   "id": "e886450c",
   "metadata": {},
   "outputs": [],
   "source": [
    "dataset = 'YODER'"
   ]
  },
  {
   "cell_type": "code",
   "execution_count": 13,
   "id": "324a7f04",
   "metadata": {},
   "outputs": [
    {
     "data": {
      "application/vnd.jupyter.widget-view+json": {
       "model_id": "76a49b5515c541bea9eac3aa63486d2c",
       "version_major": 2,
       "version_minor": 0
      },
      "text/plain": [
       "  0%|          | 0/60 [00:00<?, ?it/s]"
      ]
     },
     "metadata": {},
     "output_type": "display_data"
    }
   ],
   "source": [
    "prompts_df = generate_prompts(prompts[\"yoder\"][\"v1\"][\"template\"], personas_list)"
   ]
  },
  {
   "cell_type": "code",
   "execution_count": 14,
   "id": "e463e8a2",
   "metadata": {},
   "outputs": [
    {
     "data": {
      "text/html": [
       "<div>\n",
       "<style scoped>\n",
       "    .dataframe tbody tr th:only-of-type {\n",
       "        vertical-align: middle;\n",
       "    }\n",
       "\n",
       "    .dataframe tbody tr th {\n",
       "        vertical-align: top;\n",
       "    }\n",
       "\n",
       "    .dataframe thead th {\n",
       "        text-align: right;\n",
       "    }\n",
       "</style>\n",
       "<table border=\"1\" class=\"dataframe\">\n",
       "  <thead>\n",
       "    <tr style=\"text-align: right;\">\n",
       "      <th></th>\n",
       "      <th>persona_id</th>\n",
       "      <th>persona_pos</th>\n",
       "      <th>persona</th>\n",
       "      <th>prompt</th>\n",
       "    </tr>\n",
       "  </thead>\n",
       "  <tbody>\n",
       "    <tr>\n",
       "      <th>0</th>\n",
       "      <td>160648</td>\n",
       "      <td>top_right</td>\n",
       "      <td>a private prison owner who financially benefit...</td>\n",
       "      <td>Here is a text that may contain hate speech: [...</td>\n",
       "    </tr>\n",
       "    <tr>\n",
       "      <th>1</th>\n",
       "      <td>74928</td>\n",
       "      <td>top_right</td>\n",
       "      <td>a church choir member who shares the same cons...</td>\n",
       "      <td>Here is a text that may contain hate speech: [...</td>\n",
       "    </tr>\n",
       "    <tr>\n",
       "      <th>2</th>\n",
       "      <td>380</td>\n",
       "      <td>top_right</td>\n",
       "      <td>a loyal patron who appreciates the business ow...</td>\n",
       "      <td>Here is a text that may contain hate speech: [...</td>\n",
       "    </tr>\n",
       "  </tbody>\n",
       "</table>\n",
       "</div>"
      ],
      "text/plain": [
       "   persona_id persona_pos                                            persona  \\\n",
       "0      160648   top_right  a private prison owner who financially benefit...   \n",
       "1       74928   top_right  a church choir member who shares the same cons...   \n",
       "2         380   top_right  a loyal patron who appreciates the business ow...   \n",
       "\n",
       "                                              prompt  \n",
       "0  Here is a text that may contain hate speech: [...  \n",
       "1  Here is a text that may contain hate speech: [...  \n",
       "2  Here is a text that may contain hate speech: [...  "
      ]
     },
     "execution_count": 14,
     "metadata": {},
     "output_type": "execute_result"
    }
   ],
   "source": [
    "prompts_df.head(3)"
   ]
  },
  {
   "cell_type": "code",
   "execution_count": 15,
   "id": "24bc97b6",
   "metadata": {},
   "outputs": [
    {
     "name": "stdout",
     "output_type": "stream",
     "text": [
      "Here is a text that may contain hate speech: [TEXT].\n",
      "Taking on the perspective of the following persona: a private prison owner who financially benefits from high incarceration rates, generate a JSON output to classify this text saying if it is_hate_speech and if it is, indicate also the effected target_category being attacked.\n"
     ]
    }
   ],
   "source": [
    "print(prompts_df.iloc[0]['prompt'])"
   ]
  },
  {
   "cell_type": "code",
   "execution_count": 17,
   "id": "b42591e1",
   "metadata": {},
   "outputs": [],
   "source": [
    "save_dir = f'../../data/processed/classification_prompts/{dataset}_{model_name}_corners.pqt'\n",
    "os.makedirs(os.path.dirname(save_dir), exist_ok=True)\n",
    "prompts_df.to_parquet(save_dir)"
   ]
  },
  {
   "cell_type": "markdown",
   "id": "5f1e5049",
   "metadata": {},
   "source": [
    "## Left - Right\n",
    "---"
   ]
  },
  {
   "cell_type": "code",
   "execution_count": null,
   "id": "5e7d52af",
   "metadata": {},
   "outputs": [],
   "source": [
    "path = f'../../results/extreme_pos_personas/{model_name}/extreme_pos_left_right.pkl'"
   ]
  },
  {
   "cell_type": "markdown",
   "id": "5f316bb0",
   "metadata": {},
   "source": [
    "### Facebook Hateful Memes\n",
    "---"
   ]
  },
  {
   "cell_type": "markdown",
   "id": "783cd5f0",
   "metadata": {},
   "source": [
    "### MMHS150K\n",
    "---"
   ]
  }
 ],
 "metadata": {
  "kernelspec": {
   "display_name": "torch",
   "language": "python",
   "name": "python3"
  },
  "language_info": {
   "codemirror_mode": {
    "name": "ipython",
    "version": 3
   },
   "file_extension": ".py",
   "mimetype": "text/x-python",
   "name": "python",
   "nbconvert_exporter": "python",
   "pygments_lexer": "ipython3",
   "version": "3.11.10"
  }
 },
 "nbformat": 4,
 "nbformat_minor": 5
}
